{
 "cells": [
  {
   "cell_type": "code",
   "execution_count": 44,
   "metadata": {},
   "outputs": [],
   "source": [
    "from __future__ import print_function\n",
    "import pickle\n",
    "from matplotlib import pyplot\n",
    "import numpy as np\n",
    "import os\n",
    "import random\n",
    "import argparse\n",
    "import torch\n",
    "import torch.nn as nn\n",
    "import torch.nn.functional as F\n",
    "import torch.optim as optim\n",
    "from torchvision import datasets, transforms\n",
    "from IPython.core.debugger import set_trace\n",
    "from sklearn.metrics import roc_curve, auc, roc_auc_score\n",
    "from PIL import Image\n",
    "from PIL import ImageDraw\n",
    "from PIL import ImageFont"
   ]
  },
  {
   "cell_type": "code",
   "execution_count": 9,
   "metadata": {},
   "outputs": [],
   "source": [
    "dataset_type = 'process'\n",
    "#dataset_type = 'domain'\n",
    "\n",
    "OUTPUT_DIR = 'output'\n",
    "\n",
    "if dataset_type == 'domain':\n",
    "    OUTPUT_FILE = os.path.join(OUTPUT_DIR, 'domain_results.pkl')\n",
    "    INPUT_FILE = os.path.join('data', 'domains_spoof.pkl')\n",
    "    IMAGE_FILE = os.path.join(OUTPUT_DIR, 'domains_roc_curve.png')\n",
    "    OUTPUT_NAME = 'Domain Spoofing'\n",
    "elif dataset_type == 'process':\n",
    "    OUTPUT_FILE = os.path.join(OUTPUT_DIR, 'process_results.pkl')\n",
    "    INPUT_FILE = os.path.join('data', 'process_spoof.pkl')\n",
    "    IMAGE_FILE = os.path.join(OUTPUT_DIR, 'process_roc_curve.png')\n",
    "    OUTPUT_NAME = 'Process Spoofing'\n",
    "else:\n",
    "    raise Exception('Unknown dataset type: %s' % (dataset_type,))"
   ]
  },
  {
   "cell_type": "code",
   "execution_count": 10,
   "metadata": {},
   "outputs": [],
   "source": [
    "def generate_imgs(strings, font_location, font_size, image_size, text_location):\n",
    "    font = ImageFont.truetype(font_location, font_size)\n",
    "\n",
    "    str_imgs = []\n",
    "\n",
    "    for st in strings:\n",
    "        # Create a single channel image of floats\n",
    "        img1 = Image.new('F', image_size)\n",
    "        dimg = ImageDraw.Draw(img1)\n",
    "        dimg.text(text_location, st.lower(), font=font)\n",
    "        \n",
    "        img1 = np.expand_dims(img1, axis=0)\n",
    "\n",
    "        str_imgs.append(img1)\n",
    "\n",
    "    return np.array(str_imgs, dtype=np.float32)"
   ]
  },
  {
   "cell_type": "code",
   "execution_count": 151,
   "metadata": {},
   "outputs": [],
   "source": []
  },
  {
   "cell_type": "code",
   "execution_count": 28,
   "metadata": {},
   "outputs": [],
   "source": [
    "font_location = \"Arial.ttf\"\n",
    "font_size = 10\n",
    "image_size = (150, 12)\n",
    "text_location = (0, 0)\n",
    "\n",
    "with open(INPUT_FILE, 'rb') as f:\n",
    "    data = pickle.load(f)\n",
    "        \n",
    "data['train'] = random.sample(data['train'], 80)\n",
    "data['validate'] = random.sample(data['validate'], 10)\n",
    "data['test'] = random.sample(data['test'], 10)"
   ]
  },
  {
   "cell_type": "code",
   "execution_count": 379,
   "metadata": {},
   "outputs": [],
   "source": [
    "X1_train = generate_imgs([x[0] for x in data['train']], font_location, font_size, image_size, text_location).transpose( (0,2,3,1) ) \n",
    "X2_train = generate_imgs([x[1] for x in data['train']], font_location, font_size, image_size, text_location).transpose( (0,2,3,1) )\n",
    "y_train = [x[2] for x in data['train']]\n",
    "\n",
    "X1_valid = generate_imgs([x[0] for x in data['validate']], font_location, font_size, image_size, text_location).transpose( (0,2,3,1) )\n",
    "X2_valid = generate_imgs([x[1] for x in data['validate']], font_location, font_size, image_size, text_location).transpose( (0,2,3,1) )\n",
    "y_valid = [x[2] for x in data['validate']]\n",
    "\n",
    "X1_test = generate_imgs([x[0] for x in data['test']], font_location, font_size, image_size, text_location).transpose( (0,2,3,1) )\n",
    "X2_test = generate_imgs([x[1] for x in data['test']], font_location, font_size, image_size, text_location).transpose( (0,2,3,1) )\n",
    "y_test = [x[2] for x in data['test']]"
   ]
  },
  {
   "cell_type": "code",
   "execution_count": 348,
   "metadata": {
    "scrolled": true
   },
   "outputs": [
    {
     "name": "stdout",
     "output_type": "stream",
     "text": [
      "0.0\n",
      "1.0\n",
      "0.0\n",
      "0.0\n",
      "0.0\n",
      "0.0\n",
      "0.0\n",
      "1.0\n",
      "1.0\n",
      "0.0\n"
     ]
    },
    {
     "data": {
      "image/png": "[encoded data removed]",
      "text/plain": [
       "<Figure size 432x288 with 1 Axes>"
      ]
     },
     "metadata": {
      "needs_background": "light"
     },
     "output_type": "display_data"
    },
    {
     "data": {
      "image/png": "[encoded data removed]",
      "text/plain": [
       "<Figure size 432x288 with 1 Axes>"
      ]
     },
     "metadata": {
      "needs_background": "light"
     },
     "output_type": "display_data"
    },
    {
     "data": {
      "image/png": "[encoded data removed]",
      "text/plain": [
       "<Figure size 432x288 with 1 Axes>"
      ]
     },
     "metadata": {
      "needs_background": "light"
     },
     "output_type": "display_data"
    },
    {
     "data": {
      "image/png": "[encoded data removed]",
      "text/plain": [
       "<Figure size 432x288 with 1 Axes>"
      ]
     },
     "metadata": {
      "needs_background": "light"
     },
     "output_type": "display_data"
    },
    {
     "data": {
      "image/png": "[encoded data removed]",
      "text/plain": [
       "<Figure size 432x288 with 1 Axes>"
      ]
     },
     "metadata": {
      "needs_background": "light"
     },
     "output_type": "display_data"
    },
    {
     "data": {
      "image/png": "[encoded data removed]",
      "text/plain": [
       "<Figure size 432x288 with 1 Axes>"
      ]
     },
     "metadata": {
      "needs_background": "light"
     },
     "output_type": "display_data"
    },
    {
     "data": {
      "image/png": "[encoded data removed]",
      "text/plain": [
       "<Figure size 432x288 with 1 Axes>"
      ]
     },
     "metadata": {
      "needs_background": "light"
     },
     "output_type": "display_data"
    },
    {
     "data": {
      "image/png": "[encoded data removed]",
      "text/plain": [
       "<Figure size 432x288 with 1 Axes>"
      ]
     },
     "metadata": {
      "needs_background": "light"
     },
     "output_type": "display_data"
    },
    {
     "data": {
      "image/png": "[encoded data removed]",
      "text/plain": [
       "<Figure size 432x288 with 1 Axes>"
      ]
     },
     "metadata": {
      "needs_background": "light"
     },
     "output_type": "display_data"
    },
    {
     "data": {
      "image/png": "[encoded data removed]",
      "text/plain": [
       "<Figure size 432x288 with 1 Axes>"
      ]
     },
     "metadata": {
      "needs_background": "light"
     },
     "output_type": "display_data"
    },
    {
     "data": {
      "image/png": "[encoded data removed]",
      "text/plain": [
       "<Figure size 432x288 with 1 Axes>"
      ]
     },
     "metadata": {
      "needs_background": "light"
     },
     "output_type": "display_data"
    },
    {
     "data": {
      "image/png": "[encoded data removed]",
      "text/plain": [
       "<Figure size 432x288 with 1 Axes>"
      ]
     },
     "metadata": {
      "needs_background": "light"
     },
     "output_type": "display_data"
    },
    {
     "data": {
      "image/png": "[encoded data removed]",
      "text/plain": [
       "<Figure size 432x288 with 1 Axes>"
      ]
     },
     "metadata": {
      "needs_background": "light"
     },
     "output_type": "display_data"
    },
    {
     "data": {
      "image/png": "[encoded data removed]",
      "text/plain": [
       "<Figure size 432x288 with 1 Axes>"
      ]
     },
     "metadata": {
      "needs_background": "light"
     },
     "output_type": "display_data"
    },
    {
     "data": {
      "image/png": "[encoded data removed]",
      "text/plain": [
       "<Figure size 432x288 with 1 Axes>"
      ]
     },
     "metadata": {
      "needs_background": "light"
     },
     "output_type": "display_data"
    },
    {
     "data": {
      "image/png": "[encoded data removed]",
      "text/plain": [
       "<Figure size 432x288 with 1 Axes>"
      ]
     },
     "metadata": {
      "needs_background": "light"
     },
     "output_type": "display_data"
    },
    {
     "data": {
      "image/png": "[encoded data removed]",
      "text/plain": [
       "<Figure size 432x288 with 1 Axes>"
      ]
     },
     "metadata": {
      "needs_background": "light"
     },
     "output_type": "display_data"
    },
    {
     "data": {
      "image/png": "[encoded data removed]",
      "text/plain": [
       "<Figure size 432x288 with 1 Axes>"
      ]
     },
     "metadata": {
      "needs_background": "light"
     },
     "output_type": "display_data"
    },
    {
     "data": {
      "image/png": "[encoded data removed]",
      "text/plain": [
       "<Figure size 432x288 with 1 Axes>"
      ]
     },
     "metadata": {
      "needs_background": "light"
     },
     "output_type": "display_data"
    },
    {
     "data": {
      "image/png": "[encoded data removed]",
      "text/plain": [
       "<Figure size 432x288 with 1 Axes>"
      ]
     },
     "metadata": {
      "needs_background": "light"
     },
     "output_type": "display_data"
    }
   ],
   "source": [
    "for ii in range(10):\n",
    "    iii = X1_train[ii].reshape((12, 150))\n",
    "    pyplot.figure()\n",
    "    pyplot.imshow(iii, cmap=\"gray\")\n",
    "    \n",
    "    iii = X2_train[ii].reshape((12, 150))\n",
    "    pyplot.figure()\n",
    "    pyplot.imshow(iii, cmap=\"gray\")\n",
    "    \n",
    "    print(y_test[ii])"
   ]
  },
  {
   "cell_type": "code",
   "execution_count": 380,
   "metadata": {},
   "outputs": [
    {
     "name": "stdout",
     "output_type": "stream",
     "text": [
      "torch.Size([80, 2, 1, 12, 150])\n",
      "torch.Size([80])\n",
      "torch.Size([10, 2, 1, 12, 150])\n",
      "torch.Size([10])\n",
      "torch.Size([10, 2, 1, 12, 150])\n",
      "torch.Size([10])\n"
     ]
    }
   ],
   "source": [
    "def permute_shapes(collection):\n",
    "    return collection.permute(0, 3, 1, 2)\n",
    "\n",
    "def tensorify(collection):\n",
    "    return torch.from_numpy(collection)\n",
    "\n",
    "def arrange_dataset(X1, X2, y, batch_size=8, shuffle=True):\n",
    "    X1_new = X1.unsqueeze(1)\n",
    "    X2_new = X2.unsqueeze(1)\n",
    "    y_new = torch.FloatTensor(y)\n",
    "    \n",
    "    dataset_large = torch.cat((X1_new, X2_new), 1)\n",
    "    print(dataset_large.shape)\n",
    "    print(y_new.shape)\n",
    "\n",
    "    from torch.utils.data import DataLoader\n",
    "    from torch.utils.data import TensorDataset\n",
    "    large_dataset = TensorDataset(dataset_large, y_new)\n",
    "    large_data_loader = DataLoader(large_dataset, batch_size=batch_size, shuffle=shuffle, drop_last=True)\n",
    "    return large_data_loader\n",
    "\n",
    "X1_train = permute_shapes(tensorify(X1_train))\n",
    "X2_train = permute_shapes(tensorify(X2_train))\n",
    "X1_valid = permute_shapes(tensorify(X1_valid))\n",
    "X2_valid = permute_shapes(tensorify(X2_valid))\n",
    "X1_test = permute_shapes(tensorify(X2_test))\n",
    "X2_test = permute_shapes(tensorify(X2_test))\n",
    "\n",
    "train_loader = arrange_dataset(X1_train, X2_train, y_train)\n",
    "valid_loader = arrange_dataset(X1_valid, X2_valid, y_valid)\n",
    "test_loader = arrange_dataset(X1_test, X2_test, y_test)"
   ]
  },
  {
   "cell_type": "code",
   "execution_count": 246,
   "metadata": {},
   "outputs": [],
   "source": [
    "class ContrastiveLoss(nn.Module):\n",
    "    def __init__(self, margin=1.0):\n",
    "        super(ContrastiveLoss, self).__init__()\n",
    "        self.margin=margin\n",
    "\n",
    "    def forward(self, output1, output2, label):\n",
    "        output1 = output1.type(torch.DoubleTensor)\n",
    "        output2 = output2.type(torch.DoubleTensor)\n",
    "        label = label.type(torch.DoubleTensor)\n",
    "\n",
    "        euclidean_distance = F.pairwise_distance(output1, output2)\n",
    "        loss_contrastive = torch.mean((1-label) * torch.pow(euclidean_distance, 2) +\n",
    "                                        label   * torch.pow(torch.clamp(self.margin-euclidean_distance, min=0.0), 2))\n",
    "\n",
    "        return loss_contrastive\n",
    "\n",
    "class Siamese_CNN(nn.Module):\n",
    "    def __init__(self):\n",
    "        super().__init__()\n",
    "        self.conv1 = nn.Conv2d(in_channels=1, out_channels=128, kernel_size=5)\n",
    "        self.conv2 = nn.Conv2d(in_channels=128, out_channels=64, kernel_size=3)\n",
    "        self.fc = nn.Linear(64 * 35, 32)\n",
    "\n",
    "    def forward_once(self, x):\n",
    "        x = F.leaky_relu(self.conv1(x), 0.1)\n",
    "        x = F.max_pool2d(x, 2, 2)\n",
    "        x = F.leaky_relu(self.conv2(x), 0.1)\n",
    "        x = F.max_pool2d(x, 2, 2)\n",
    "        x = x.view(-1, 64 * 35)\n",
    "        return self.fc(x)\n",
    "    \n",
    "    def forward(self, input1, input2):\n",
    "        output1 = self.forward_once(input1)\n",
    "        output2 = self.forward_once(input2)\n",
    "        return output1, output2"
   ]
  },
  {
   "cell_type": "code",
   "execution_count": 376,
   "metadata": {},
   "outputs": [],
   "source": [
    "siamese = Siamese_CNN()"
   ]
  },
  {
   "cell_type": "code",
   "execution_count": 392,
   "metadata": {},
   "outputs": [
    {
     "name": "stdout",
     "output_type": "stream",
     "text": [
      "Train Epoch: 1 [0/80 (0%)]\tLoss: 0.010171\n",
      "Train Epoch: 1 [8/80 (10%)]\tLoss: 0.033496\n",
      "Train Epoch: 1 [16/80 (20%)]\tLoss: 0.031239\n",
      "Train Epoch: 1 [24/80 (30%)]\tLoss: 0.043132\n",
      "Train Epoch: 1 [32/80 (40%)]\tLoss: 0.082203\n",
      "Train Epoch: 1 [40/80 (50%)]\tLoss: 0.166933\n",
      "Train Epoch: 1 [48/80 (60%)]\tLoss: 0.040757\n",
      "Train Epoch: 1 [56/80 (70%)]\tLoss: 0.067728\n",
      "Train Epoch: 1 [64/80 (80%)]\tLoss: 0.453498\n",
      "Train Epoch: 1 [72/80 (90%)]\tLoss: 0.411487\n",
      "Train Epoch: 2 [0/80 (0%)]\tLoss: 0.521111\n",
      "Train Epoch: 2 [8/80 (10%)]\tLoss: 0.288431\n",
      "Train Epoch: 2 [16/80 (20%)]\tLoss: 0.068241\n",
      "Train Epoch: 2 [24/80 (30%)]\tLoss: 0.742083\n",
      "Train Epoch: 2 [32/80 (40%)]\tLoss: 0.701959\n",
      "Train Epoch: 2 [40/80 (50%)]\tLoss: 0.022766\n",
      "Train Epoch: 2 [48/80 (60%)]\tLoss: 0.325390\n",
      "Train Epoch: 2 [56/80 (70%)]\tLoss: 0.360895\n",
      "Train Epoch: 2 [64/80 (80%)]\tLoss: 0.285925\n",
      "Train Epoch: 2 [72/80 (90%)]\tLoss: 0.195511\n",
      "Train Epoch: 3 [0/80 (0%)]\tLoss: 0.104507\n",
      "Train Epoch: 3 [8/80 (10%)]\tLoss: 0.297803\n",
      "Train Epoch: 3 [16/80 (20%)]\tLoss: 0.301116\n",
      "Train Epoch: 3 [24/80 (30%)]\tLoss: 0.379206\n",
      "Train Epoch: 3 [32/80 (40%)]\tLoss: 0.898494\n",
      "Train Epoch: 3 [40/80 (50%)]\tLoss: 1.091153\n",
      "Train Epoch: 3 [48/80 (60%)]\tLoss: 0.359927\n",
      "Train Epoch: 3 [56/80 (70%)]\tLoss: 0.033907\n",
      "Train Epoch: 3 [64/80 (80%)]\tLoss: 0.027624\n",
      "Train Epoch: 3 [72/80 (90%)]\tLoss: 0.160892\n",
      "Train Epoch: 4 [0/80 (0%)]\tLoss: 0.046220\n",
      "Train Epoch: 4 [8/80 (10%)]\tLoss: 0.178406\n",
      "Train Epoch: 4 [16/80 (20%)]\tLoss: 0.194293\n",
      "Train Epoch: 4 [24/80 (30%)]\tLoss: 0.509799\n",
      "Train Epoch: 4 [32/80 (40%)]\tLoss: 0.056976\n",
      "Train Epoch: 4 [40/80 (50%)]\tLoss: 0.166952\n",
      "Train Epoch: 4 [48/80 (60%)]\tLoss: 0.166794\n",
      "Train Epoch: 4 [56/80 (70%)]\tLoss: 0.716866\n",
      "Train Epoch: 4 [64/80 (80%)]\tLoss: 0.636442\n",
      "Train Epoch: 4 [72/80 (90%)]\tLoss: 0.787998\n",
      "Train Epoch: 5 [0/80 (0%)]\tLoss: 0.610655\n",
      "Train Epoch: 5 [8/80 (10%)]\tLoss: 0.037437\n",
      "Train Epoch: 5 [16/80 (20%)]\tLoss: 0.247020\n",
      "Train Epoch: 5 [24/80 (30%)]\tLoss: 0.233423\n",
      "Train Epoch: 5 [32/80 (40%)]\tLoss: 0.554266\n",
      "Train Epoch: 5 [40/80 (50%)]\tLoss: 0.055058\n",
      "Train Epoch: 5 [48/80 (60%)]\tLoss: 0.437098\n",
      "Train Epoch: 5 [56/80 (70%)]\tLoss: 0.525974\n",
      "Train Epoch: 5 [64/80 (80%)]\tLoss: 0.217174\n",
      "Train Epoch: 5 [72/80 (90%)]\tLoss: 0.132573\n",
      "Train Epoch: 6 [0/80 (0%)]\tLoss: 0.356082\n",
      "Train Epoch: 6 [8/80 (10%)]\tLoss: 0.042608\n",
      "Train Epoch: 6 [16/80 (20%)]\tLoss: 0.238251\n",
      "Train Epoch: 6 [24/80 (30%)]\tLoss: 0.006401\n",
      "Train Epoch: 6 [32/80 (40%)]\tLoss: 0.010013\n",
      "Train Epoch: 6 [40/80 (50%)]\tLoss: 0.165725\n",
      "Train Epoch: 6 [48/80 (60%)]\tLoss: 0.268194\n",
      "Train Epoch: 6 [56/80 (70%)]\tLoss: 0.944364\n",
      "Train Epoch: 6 [64/80 (80%)]\tLoss: 0.296145\n",
      "Train Epoch: 6 [72/80 (90%)]\tLoss: 0.116414\n",
      "Train Epoch: 7 [0/80 (0%)]\tLoss: 0.075950\n",
      "Train Epoch: 7 [8/80 (10%)]\tLoss: 0.023024\n",
      "Train Epoch: 7 [16/80 (20%)]\tLoss: 0.065036\n",
      "Train Epoch: 7 [24/80 (30%)]\tLoss: 0.166422\n",
      "Train Epoch: 7 [32/80 (40%)]\tLoss: 0.061089\n",
      "Train Epoch: 7 [40/80 (50%)]\tLoss: 0.114668\n",
      "Train Epoch: 7 [48/80 (60%)]\tLoss: 0.550729\n",
      "Train Epoch: 7 [56/80 (70%)]\tLoss: 0.254167\n",
      "Train Epoch: 7 [64/80 (80%)]\tLoss: 0.286375\n",
      "Train Epoch: 7 [72/80 (90%)]\tLoss: 0.114375\n",
      "Train Epoch: 8 [0/80 (0%)]\tLoss: 0.083474\n",
      "Train Epoch: 8 [8/80 (10%)]\tLoss: 0.033398\n",
      "Train Epoch: 8 [16/80 (20%)]\tLoss: 0.202056\n",
      "Train Epoch: 8 [24/80 (30%)]\tLoss: 0.036231\n",
      "Train Epoch: 8 [32/80 (40%)]\tLoss: 0.155225\n",
      "Train Epoch: 8 [40/80 (50%)]\tLoss: 0.103339\n",
      "Train Epoch: 8 [48/80 (60%)]\tLoss: 0.070846\n",
      "Train Epoch: 8 [56/80 (70%)]\tLoss: 0.076273\n",
      "Train Epoch: 8 [64/80 (80%)]\tLoss: 0.372411\n",
      "Train Epoch: 8 [72/80 (90%)]\tLoss: 0.054737\n",
      "Train Epoch: 9 [0/80 (0%)]\tLoss: 0.069091\n",
      "Train Epoch: 9 [8/80 (10%)]\tLoss: 0.028443\n",
      "Train Epoch: 9 [16/80 (20%)]\tLoss: 0.069029\n",
      "Train Epoch: 9 [24/80 (30%)]\tLoss: 0.031385\n",
      "Train Epoch: 9 [32/80 (40%)]\tLoss: 0.074161\n",
      "Train Epoch: 9 [40/80 (50%)]\tLoss: 0.050421\n",
      "Train Epoch: 9 [48/80 (60%)]\tLoss: 0.086833\n",
      "Train Epoch: 9 [56/80 (70%)]\tLoss: 0.130511\n",
      "Train Epoch: 9 [64/80 (80%)]\tLoss: 0.014633\n",
      "Train Epoch: 9 [72/80 (90%)]\tLoss: 0.067601\n",
      "Train Epoch: 10 [0/80 (0%)]\tLoss: 0.046547\n",
      "Train Epoch: 10 [8/80 (10%)]\tLoss: 0.051108\n",
      "Train Epoch: 10 [16/80 (20%)]\tLoss: 0.002307\n",
      "Train Epoch: 10 [24/80 (30%)]\tLoss: 0.054049\n",
      "Train Epoch: 10 [32/80 (40%)]\tLoss: 0.012343\n",
      "Train Epoch: 10 [40/80 (50%)]\tLoss: 0.597428\n",
      "Train Epoch: 10 [48/80 (60%)]\tLoss: 0.128663\n",
      "Train Epoch: 10 [56/80 (70%)]\tLoss: 0.053007\n",
      "Train Epoch: 10 [64/80 (80%)]\tLoss: 0.006665\n",
      "Train Epoch: 10 [72/80 (90%)]\tLoss: 0.033266\n",
      "Train Epoch: 11 [0/80 (0%)]\tLoss: 0.088450\n",
      "Train Epoch: 11 [8/80 (10%)]\tLoss: 0.009221\n",
      "Train Epoch: 11 [16/80 (20%)]\tLoss: 0.033772\n",
      "Train Epoch: 11 [24/80 (30%)]\tLoss: 0.022547\n",
      "Train Epoch: 11 [32/80 (40%)]\tLoss: 0.155094\n",
      "Train Epoch: 11 [40/80 (50%)]\tLoss: 0.015858\n",
      "Train Epoch: 11 [48/80 (60%)]\tLoss: 0.017883\n",
      "Train Epoch: 11 [56/80 (70%)]\tLoss: 0.033978\n",
      "Train Epoch: 11 [64/80 (80%)]\tLoss: 0.142219\n",
      "Train Epoch: 11 [72/80 (90%)]\tLoss: 0.026301\n",
      "Train Epoch: 12 [0/80 (0%)]\tLoss: 0.009919\n",
      "Train Epoch: 12 [8/80 (10%)]\tLoss: 0.015862\n",
      "Train Epoch: 12 [16/80 (20%)]\tLoss: 0.008593\n",
      "Train Epoch: 12 [24/80 (30%)]\tLoss: 0.060758\n",
      "Train Epoch: 12 [32/80 (40%)]\tLoss: 0.007743\n",
      "Train Epoch: 12 [40/80 (50%)]\tLoss: 0.084402\n",
      "Train Epoch: 12 [48/80 (60%)]\tLoss: 0.045737\n",
      "Train Epoch: 12 [56/80 (70%)]\tLoss: 0.003911\n",
      "Train Epoch: 12 [64/80 (80%)]\tLoss: 0.013118\n",
      "Train Epoch: 12 [72/80 (90%)]\tLoss: 0.009119\n",
      "Train Epoch: 13 [0/80 (0%)]\tLoss: 0.004714\n",
      "Train Epoch: 13 [8/80 (10%)]\tLoss: 0.002196\n",
      "Train Epoch: 13 [16/80 (20%)]\tLoss: 0.004918\n",
      "Train Epoch: 13 [24/80 (30%)]\tLoss: 0.004006\n",
      "Train Epoch: 13 [32/80 (40%)]\tLoss: 0.085258\n",
      "Train Epoch: 13 [40/80 (50%)]\tLoss: 0.072863\n",
      "Train Epoch: 13 [48/80 (60%)]\tLoss: 0.016106\n",
      "Train Epoch: 13 [56/80 (70%)]\tLoss: 0.010998\n",
      "Train Epoch: 13 [64/80 (80%)]\tLoss: 0.007953\n",
      "Train Epoch: 13 [72/80 (90%)]\tLoss: 0.002812\n",
      "Train Epoch: 14 [0/80 (0%)]\tLoss: 0.000207\n",
      "Train Epoch: 14 [8/80 (10%)]\tLoss: 0.000571\n",
      "Train Epoch: 14 [16/80 (20%)]\tLoss: 0.005684\n",
      "Train Epoch: 14 [24/80 (30%)]\tLoss: 0.006409\n",
      "Train Epoch: 14 [32/80 (40%)]\tLoss: 0.031961\n",
      "Train Epoch: 14 [40/80 (50%)]\tLoss: 0.048178\n",
      "Train Epoch: 14 [48/80 (60%)]\tLoss: 0.002987\n",
      "Train Epoch: 14 [56/80 (70%)]\tLoss: 0.057129\n",
      "Train Epoch: 14 [64/80 (80%)]\tLoss: 0.068669\n",
      "Train Epoch: 14 [72/80 (90%)]\tLoss: 0.023078\n",
      "Train Epoch: 15 [0/80 (0%)]\tLoss: 0.000000\n",
      "Train Epoch: 15 [8/80 (10%)]\tLoss: 0.005327\n",
      "Train Epoch: 15 [16/80 (20%)]\tLoss: 0.005357\n",
      "Train Epoch: 15 [24/80 (30%)]\tLoss: 0.004298\n",
      "Train Epoch: 15 [32/80 (40%)]\tLoss: 0.035408\n",
      "Train Epoch: 15 [40/80 (50%)]\tLoss: 0.043767\n",
      "Train Epoch: 15 [48/80 (60%)]\tLoss: 0.001873\n",
      "Train Epoch: 15 [56/80 (70%)]\tLoss: 0.042323\n",
      "Train Epoch: 15 [64/80 (80%)]\tLoss: 0.008058\n",
      "Train Epoch: 15 [72/80 (90%)]\tLoss: 0.039559\n",
      "Train Epoch: 16 [0/80 (0%)]\tLoss: 0.008940\n",
      "Train Epoch: 16 [8/80 (10%)]\tLoss: 0.000849\n",
      "Train Epoch: 16 [16/80 (20%)]\tLoss: 0.001051\n",
      "Train Epoch: 16 [24/80 (30%)]\tLoss: 0.000033\n",
      "Train Epoch: 16 [32/80 (40%)]\tLoss: 0.002518\n",
      "Train Epoch: 16 [40/80 (50%)]\tLoss: 0.004065\n",
      "Train Epoch: 16 [48/80 (60%)]\tLoss: 0.036005\n",
      "Train Epoch: 16 [56/80 (70%)]\tLoss: 0.000281\n",
      "Train Epoch: 16 [64/80 (80%)]\tLoss: 0.041989\n",
      "Train Epoch: 16 [72/80 (90%)]\tLoss: 0.009428\n",
      "Train Epoch: 17 [0/80 (0%)]\tLoss: 0.000138\n",
      "Train Epoch: 17 [8/80 (10%)]\tLoss: 0.026756\n",
      "Train Epoch: 17 [16/80 (20%)]\tLoss: 0.003189\n",
      "Train Epoch: 17 [24/80 (30%)]\tLoss: 0.000431\n",
      "Train Epoch: 17 [32/80 (40%)]\tLoss: 0.000423\n",
      "Train Epoch: 17 [40/80 (50%)]\tLoss: 0.000946\n",
      "Train Epoch: 17 [48/80 (60%)]\tLoss: 0.013192\n",
      "Train Epoch: 17 [56/80 (70%)]\tLoss: 0.008394\n",
      "Train Epoch: 17 [64/80 (80%)]\tLoss: 0.036624\n",
      "Train Epoch: 17 [72/80 (90%)]\tLoss: 0.002458\n",
      "Train Epoch: 18 [0/80 (0%)]\tLoss: 0.000929\n",
      "Train Epoch: 18 [8/80 (10%)]\tLoss: 0.001570\n",
      "Train Epoch: 18 [16/80 (20%)]\tLoss: 0.014449\n",
      "Train Epoch: 18 [24/80 (30%)]\tLoss: 0.000511\n",
      "Train Epoch: 18 [32/80 (40%)]\tLoss: 0.004210\n",
      "Train Epoch: 18 [40/80 (50%)]\tLoss: 0.014949\n",
      "Train Epoch: 18 [48/80 (60%)]\tLoss: 0.012754\n",
      "Train Epoch: 18 [56/80 (70%)]\tLoss: 0.007305\n",
      "Train Epoch: 18 [64/80 (80%)]\tLoss: 0.000949\n",
      "Train Epoch: 18 [72/80 (90%)]\tLoss: 0.000671\n",
      "Train Epoch: 19 [0/80 (0%)]\tLoss: 0.000122\n",
      "Train Epoch: 19 [8/80 (10%)]\tLoss: 0.000860\n",
      "Train Epoch: 19 [16/80 (20%)]\tLoss: 0.000199\n",
      "Train Epoch: 19 [24/80 (30%)]\tLoss: 0.000922\n",
      "Train Epoch: 19 [32/80 (40%)]\tLoss: 0.005065\n",
      "Train Epoch: 19 [40/80 (50%)]\tLoss: 0.014204\n",
      "Train Epoch: 19 [48/80 (60%)]\tLoss: 0.004793\n",
      "Train Epoch: 19 [56/80 (70%)]\tLoss: 0.001227\n"
     ]
    },
    {
     "name": "stdout",
     "output_type": "stream",
     "text": [
      "Train Epoch: 19 [64/80 (80%)]\tLoss: 0.003987\n",
      "Train Epoch: 19 [72/80 (90%)]\tLoss: 0.001679\n",
      "Train Epoch: 20 [0/80 (0%)]\tLoss: 0.000638\n",
      "Train Epoch: 20 [8/80 (10%)]\tLoss: 0.001702\n",
      "Train Epoch: 20 [16/80 (20%)]\tLoss: 0.000164\n",
      "Train Epoch: 20 [24/80 (30%)]\tLoss: 0.005761\n",
      "Train Epoch: 20 [32/80 (40%)]\tLoss: 0.000656\n",
      "Train Epoch: 20 [40/80 (50%)]\tLoss: 0.002328\n",
      "Train Epoch: 20 [48/80 (60%)]\tLoss: 0.001465\n",
      "Train Epoch: 20 [56/80 (70%)]\tLoss: 0.007654\n",
      "Train Epoch: 20 [64/80 (80%)]\tLoss: 0.000702\n",
      "Train Epoch: 20 [72/80 (90%)]\tLoss: 0.004816\n"
     ]
    }
   ],
   "source": [
    "optimizer_siamese = optim.Adam(siamese.parameters(), lr=0.01)\n",
    "from keras import backend as K\n",
    "\n",
    "def train(model, device, train_loader, optimizer, epoch, batch_size=8):\n",
    "    log_interval = int(8 / batch_size)\n",
    "    criterion = ContrastiveLoss()\n",
    "    \n",
    "    model.train()\n",
    "    for batch_idx, (data, target) in enumerate(train_loader):\n",
    "        # initialize as zeros all the gradients of the model\n",
    "        optimizer.zero_grad()\n",
    "        data_permuted = data.permute(1, 0, 2, 3, 4)\n",
    "        data1 = data_permuted[0]\n",
    "        data2 = data_permuted[1]\n",
    "        \n",
    "        output1, output2 = model(data1, data2)\n",
    "        \n",
    "        # compute average loss for the current batch\n",
    "        loss = criterion(output1, output2, target)\n",
    "        # backpropagate the gradients\n",
    "        loss.backward()\n",
    "        optimizer.step()\n",
    "        \n",
    "        if batch_idx % log_interval == 0:\n",
    "            print('Train Epoch: {} [{}/{} ({:.0f}%)]\\tLoss: {:.6f}'.format(\n",
    "                epoch, batch_idx * len(data), len(train_loader.dataset),\n",
    "                100. * batch_idx / len(train_loader), loss.item()))\n",
    "            \n",
    "for epoch in range(1, 20 + 1):    \n",
    "    train(siamese, None, train_loader, optimizer_siamese, epoch)"
   ]
  },
  {
   "cell_type": "code",
   "execution_count": 444,
   "metadata": {},
   "outputs": [
    {
     "data": {
      "image/png": "[encoded data removed]",
      "text/plain": [
       "<Figure size 432x288 with 1 Axes>"
      ]
     },
     "metadata": {
      "needs_background": "light"
     },
     "output_type": "display_data"
    },
    {
     "data": {
      "image/png": "[encoded data removed]",
      "text/plain": [
       "<Figure size 432x288 with 1 Axes>"
      ]
     },
     "metadata": {
      "needs_background": "light"
     },
     "output_type": "display_data"
    },
    {
     "data": {
      "image/png": "[encoded data removed]",
      "text/plain": [
       "<Figure size 432x288 with 1 Axes>"
      ]
     },
     "metadata": {
      "needs_background": "light"
     },
     "output_type": "display_data"
    },
    {
     "data": {
      "image/png": "[encoded data removed]",
      "text/plain": [
       "<Figure size 432x288 with 1 Axes>"
      ]
     },
     "metadata": {
      "needs_background": "light"
     },
     "output_type": "display_data"
    },
    {
     "data": {
      "image/png": "[encoded data removed]",
      "text/plain": [
       "<Figure size 432x288 with 1 Axes>"
      ]
     },
     "metadata": {
      "needs_background": "light"
     },
     "output_type": "display_data"
    },
    {
     "data": {
      "image/png": "[encoded data removed]",
      "text/plain": [
       "<Figure size 432x288 with 1 Axes>"
      ]
     },
     "metadata": {
      "needs_background": "light"
     },
     "output_type": "display_data"
    },
    {
     "data": {
      "image/png": "[encoded data removed]",
      "text/plain": [
       "<Figure size 432x288 with 1 Axes>"
      ]
     },
     "metadata": {
      "needs_background": "light"
     },
     "output_type": "display_data"
    },
    {
     "data": {
      "image/png": "[encoded data removed]",
      "text/plain": [
       "<Figure size 432x288 with 1 Axes>"
      ]
     },
     "metadata": {
      "needs_background": "light"
     },
     "output_type": "display_data"
    },
    {
     "data": {
      "image/png": "[encoded data removed]",
      "text/plain": [
       "<Figure size 432x288 with 1 Axes>"
      ]
     },
     "metadata": {
      "needs_background": "light"
     },
     "output_type": "display_data"
    },
    {
     "data": {
      "image/png": "[encoded data removed]",
      "text/plain": [
       "<Figure size 432x288 with 1 Axes>"
      ]
     },
     "metadata": {
      "needs_background": "light"
     },
     "output_type": "display_data"
    },
    {
     "data": {
      "image/png": "[encoded data removed]",
      "text/plain": [
       "<Figure size 432x288 with 1 Axes>"
      ]
     },
     "metadata": {
      "needs_background": "light"
     },
     "output_type": "display_data"
    },
    {
     "data": {
      "image/png": "[encoded data removed]",
      "text/plain": [
       "<Figure size 432x288 with 1 Axes>"
      ]
     },
     "metadata": {
      "needs_background": "light"
     },
     "output_type": "display_data"
    },
    {
     "data": {
      "image/png": "[encoded data removed]",
      "text/plain": [
       "<Figure size 432x288 with 1 Axes>"
      ]
     },
     "metadata": {
      "needs_background": "light"
     },
     "output_type": "display_data"
    },
    {
     "data": {
      "image/png": "[encoded data removed]",
      "text/plain": [
       "<Figure size 432x288 with 1 Axes>"
      ]
     },
     "metadata": {
      "needs_background": "light"
     },
     "output_type": "display_data"
    },
    {
     "data": {
      "image/png": "[encoded data removed]",
      "text/plain": [
       "<Figure size 432x288 with 1 Axes>"
      ]
     },
     "metadata": {
      "needs_background": "light"
     },
     "output_type": "display_data"
    },
    {
     "data": {
      "image/png": "[encoded data removed]",
      "text/plain": [
       "<Figure size 432x288 with 1 Axes>"
      ]
     },
     "metadata": {
      "needs_background": "light"
     },
     "output_type": "display_data"
    },
    {
     "data": {
      "image/png": "[encoded data removed]",
      "text/plain": [
       "<Figure size 432x288 with 1 Axes>"
      ]
     },
     "metadata": {
      "needs_background": "light"
     },
     "output_type": "display_data"
    },
    {
     "data": {
      "image/png": "[encoded data removed]",
      "text/plain": [
       "<Figure size 432x288 with 1 Axes>"
      ]
     },
     "metadata": {
      "needs_background": "light"
     },
     "output_type": "display_data"
    },
    {
     "data": {
      "image/png": "[encoded data removed]",
      "text/plain": [
       "<Figure size 432x288 with 1 Axes>"
      ]
     },
     "metadata": {
      "needs_background": "light"
     },
     "output_type": "display_data"
    },
    {
     "data": {
      "image/png": "[encoded data removed]",
      "text/plain": [
       "<Figure size 432x288 with 1 Axes>"
      ]
     },
     "metadata": {
      "needs_background": "light"
     },
     "output_type": "display_data"
    }
   ],
   "source": [
    "def checker(loader):\n",
    "    for i in range(10):\n",
    "        input1 = loader.dataset.tensors[0][i][0]\n",
    "        input2 = loader.dataset.tensors[0][i][1]\n",
    "        label = loader.dataset.tensors[1][i]\n",
    "        o1, o2 = siamese(input1.unsqueeze(0), input2.unsqueeze(0))\n",
    "\n",
    "        iii = input1.reshape((12, 150))\n",
    "        pyplot.figure()\n",
    "        pyplot.imshow(iii, cmap=\"gray\")\n",
    "\n",
    "        iii = input2.reshape((12, 150))\n",
    "        pyplot.figure()\n",
    "        pyplot.xlabel(str(label.item()) + \" vs \" + str(F.pairwise_distance(o1, o2).item()))\n",
    "        pyplot.imshow(iii, cmap=\"gray\")\n",
    "        \n",
    "checker(train_loader)"
   ]
  }
 ],
 "metadata": {
  "kernelspec": {
   "display_name": "Python 3",
   "language": "python",
   "name": "python3"
  },
  "language_info": {
   "codemirror_mode": {
    "name": "ipython",
    "version": 3
   },
   "file_extension": ".py",
   "mimetype": "text/x-python",
   "name": "python",
   "nbconvert_exporter": "python",
   "pygments_lexer": "ipython3",
   "version": "3.6.7"
  }
 },
 "nbformat": 4,
 "nbformat_minor": 2
}
